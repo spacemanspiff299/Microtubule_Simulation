{
 "cells": [
  {
   "cell_type": "code",
   "execution_count": 301,
   "metadata": {},
   "outputs": [],
   "source": [
    "import numpy as np\n",
    "import matplotlib.pyplot as plt"
   ]
  },
  {
   "cell_type": "code",
   "execution_count": 302,
   "metadata": {},
   "outputs": [],
   "source": [
    "rates = np.array([3.2e6, 24, 290, 0.5]) # intrinsic rates for reactions: 1. polymerization of GTP-bound monomers, 2. depolymerization of GTP-bound monomers, 3. depolymerization of GDP-bound monomers, 4. hydrolysis of GTP\n",
    "concentration = 11e-6 # concentration of monomers in the solution\n",
    "ratio = 0.01 # ratio of rate of polymerization of GDP-bound monomers to rate of polymerization of GTP-bound monomers"
   ]
  },
  {
   "cell_type": "code",
   "execution_count": 303,
   "metadata": {},
   "outputs": [],
   "source": [
    "def update_propensities(propensities, filament, concentration, ratio, rates=rates):\n",
    "    '''\n",
    "    Function to update the propensities of the reactions depending on the state of the filament.\n",
    "\n",
    "    Args:\n",
    "        propensities: (np.array) Array with the propensities of the reactions.\n",
    "        filament: (list) List of the states of the monomers in the filament.\n",
    "        concentration: (float) Concentration of tubulin.\n",
    "        rates: (np.array) Array with the intrinsic rates of the reactions.\n",
    "        ratio: (float) Ratio between the rates of polymerization of GDP-bound and GTP-bound monomers.\n",
    "\n",
    "    Returns:\n",
    "        propensities: (np.array) Array with the updated propensities of the reactions.\n",
    "    '''\n",
    "\n",
    "    # calculate the number of GTP bound tubulin\n",
    "    n_gtp = sum(filament)\n",
    "\n",
    "    k_gtpPolymerization = rates[0] * concentration\n",
    "    k_gdpPolymerization = k_gtpPolymerization * ratio\n",
    "    k_gtpDepolymerization = rates[1]\n",
    "    k_gdpDepolymerization = rates[2]\n",
    "    k_hydrolysis = rates[3]*n_gtp\n",
    "\n",
    "    if filament[-1] == 1: # if the last monomer is GTP bound\n",
    "        propensities[0] = k_gtpPolymerization\n",
    "        propensities[1] = k_gtpDepolymerization\n",
    "    else: # if the last monomer is GDP bound\n",
    "        propensities[0] = k_gdpPolymerization\n",
    "        propensities[1] = k_gdpDepolymerization\n",
    "\n",
    "    propensities[2] = k_hydrolysis\n",
    "\n",
    "    return propensities"
   ]
  },
  {
   "cell_type": "code",
   "execution_count": 304,
   "metadata": {},
   "outputs": [],
   "source": [
    "def sample_discrete(propensities):\n",
    "    '''\n",
    "    Function to sample the next reaction to occur.\n",
    "\n",
    "    Args:\n",
    "        propensities: (np.array) Array with the propensities of the reactions.\n",
    "\n",
    "    Returns:\n",
    "        index: (int) Index of the reaction that occurs.\n",
    "        0. Polymerization\n",
    "        1. Depolymerization\n",
    "        2. Hydrolysis\n",
    "    '''\n",
    "\n",
    "    # calculate the total propensity\n",
    "    total_propensity = sum(propensities)\n",
    "\n",
    "    # sample a random number\n",
    "    r = np.random.rand()\n",
    "\n",
    "    # calculate the cumulative sum of the propensities\n",
    "    cum_sum = np.cumsum(propensities)\n",
    "\n",
    "    # find the index of the reaction that occurs\n",
    "    index = np.searchsorted(cum_sum, r*total_propensity)\n",
    "\n",
    "    return index"
   ]
  },
  {
   "cell_type": "code",
   "execution_count": 305,
   "metadata": {},
   "outputs": [],
   "source": [
    "def gillespie_draw(propensity_func, propensities, filament, *args):\n",
    "    '''\n",
    "    Function to draw the next time and reaction to occur.\n",
    "\n",
    "    Args:\n",
    "        propensity_func: (function) Function to update the propensities of the reactions.\n",
    "        propensities: (np.array) Array with the propensities of the reactions.\n",
    "        filament: (list) List of the states of the monomers in the filament.\n",
    "        *args: Additional arguments for the propensity function.\n",
    "\n",
    "    Returns:\n",
    "        tau: (float) Time until the next reaction occurs.\n",
    "        index: (int) Index of the reaction that occurs.\n",
    "    '''\n",
    "\n",
    "    # update the propensities\n",
    "    propensities = propensity_func(propensities, filament, *args)\n",
    "\n",
    "    # calculate the total propensity\n",
    "    total_propensity = sum(propensities)\n",
    "\n",
    "    # sample the time until the next reaction occurs\n",
    "    tau = np.random.exponential(1.0/total_propensity)\n",
    "\n",
    "    # sample the reaction that occurs\n",
    "    index = sample_discrete(propensities)\n",
    "\n",
    "    return tau, index"
   ]
  },
  {
   "cell_type": "code",
   "execution_count": 310,
   "metadata": {},
   "outputs": [],
   "source": [
    "def gillespie(t_max, concentration, ratio):\n",
    "    '''\n",
    "    Function to run the simulation of the Gillespie algorithm.\n",
    "\n",
    "    Args:\n",
    "        t_max: (float) Maximum time of the simulation.\n",
    "        concentration: (float) Concentration of tubulin.\n",
    "        ratio: (float) Ratio between the rates of polymerization of GDP-bound and GTP-bound monomers\n",
    "\n",
    "    Returns:\n",
    "        t: (list) List with the times of the simulation.\n",
    "        len: (list) List with the length of the filament at each time.\n",
    "    '''\n",
    "\n",
    "    # initialization\n",
    "    t = [0.0]\n",
    "    filament = [1]*10\n",
    "    l_t = [len(filament)]\n",
    "    propensities = np.array([0, 0, 0])\n",
    "\n",
    "    # run the simulation\n",
    "    while t[-1] < t_max:\n",
    "        tau, index = gillespie_draw(update_propensities, propensities, filament, concentration, ratio)\n",
    "        t.append(t[-1] + tau)\n",
    "\n",
    "        if index == 0: # polymerization\n",
    "            filament.append(1)\n",
    "        elif index == 1: # depolymerization\n",
    "            filament.pop()\n",
    "        else: # hydrolysis of a GTP-bound monomer\n",
    "            gtp_monomers = [i for i, x in enumerate(filament) if x == 1]\n",
    "            i = np.random.choice(gtp_monomers)\n",
    "            filament[i] = 0\n",
    "\n",
    "        l_t.append(len(filament))\n",
    "\n",
    "        if len(filament) == 1:\n",
    "            break\n",
    "\n",
    "    return t, l_t"
   ]
  },
  {
   "cell_type": "code",
   "execution_count": 324,
   "metadata": {},
   "outputs": [
    {
     "data": {
      "image/png": "[encoded data removed]",
      "text/plain": [
       "<Figure size 640x480 with 1 Axes>"
      ]
     },
     "metadata": {},
     "output_type": "display_data"
    }
   ],
   "source": [
    "t, l_t = gillespie(100, concentration=9.4e-6, ratio=1)\n",
    "\n",
    "plt.plot(t, l_t)\n",
    "plt.xlabel('Time')\n",
    "plt.ylabel('Length')\n",
    "\n",
    "plt.show()"
   ]
  },
  {
   "cell_type": "code",
   "execution_count": null,
   "metadata": {},
   "outputs": [],
   "source": []
  }
 ],
 "metadata": {
  "kernelspec": {
   "display_name": "global",
   "language": "python",
   "name": "python3"
  },
  "language_info": {
   "codemirror_mode": {
    "name": "ipython",
    "version": 3
   },
   "file_extension": ".py",
   "mimetype": "text/x-python",
   "name": "python",
   "nbconvert_exporter": "python",
   "pygments_lexer": "ipython3",
   "version": "3.12.4"
  }
 },
 "nbformat": 4,
 "nbformat_minor": 2
}
